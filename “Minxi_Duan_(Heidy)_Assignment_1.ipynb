{
  "nbformat": 4,
  "nbformat_minor": 0,
  "metadata": {
    "kernelspec": {
      "display_name": "Python 3",
      "language": "python",
      "name": "python3"
    },
    "language_info": {
      "codemirror_mode": {
        "name": "ipython",
        "version": 3
      },
      "file_extension": ".py",
      "mimetype": "text/x-python",
      "name": "python",
      "nbconvert_exporter": "python",
      "pygments_lexer": "ipython3",
      "version": "3.6.6"
    },
    "colab": {
      "name": "“Minxi Duan (Heidy) Assignment 1”的副本",
      "provenance": [],
      "collapsed_sections": [],
      "include_colab_link": true
    },
    "accelerator": "GPU"
  },
  "cells": [
    {
      "cell_type": "markdown",
      "metadata": {
        "id": "view-in-github",
        "colab_type": "text"
      },
      "source": [
        "<a href=\"https://colab.research.google.com/github/heidyyy/BostonHousing/blob/main/%E2%80%9CMinxi_Duan_(Heidy)_Assignment_1.ipynb\" target=\"_parent\"><img src=\"https://colab.research.google.com/assets/colab-badge.svg\" alt=\"Open In Colab\"/></a>"
      ]
    },
    {
      "cell_type": "markdown",
      "metadata": {
        "id": "_jiGtJu6u9ml"
      },
      "source": [
        "# Copyright\n",
        "\n",
        "<PRE>\n",
        "Copyright (c) 2020 Bálint Gyires-Tóth - All Rights Reserved\n",
        "You may use and modify this code for research and development purpuses.\n",
        "Use this code for educational purposes (self-paced or instructor led) without the permission of the author is prohibited.\n",
        "</PRE>"
      ]
    },
    {
      "cell_type": "markdown",
      "metadata": {
        "id": "oXyFC44jV-PP"
      },
      "source": [
        "\n",
        "\n",
        "# Boston housing prices - modeling\n",
        "In this notebook we will: \n",
        "* using Boston housing data (https://www.cs.toronto.edu/~delve/data/boston/bostonDetail.html)\n",
        "* exploring the data\n",
        "* creating a model\n",
        "* training the model\n",
        "* evaluation on test data\n",
        "* making predictions and regression plot\n",
        "\n",
        "Assigment: \n",
        "* please complete TODO parts\n"
      ]
    },
    {
      "cell_type": "code",
      "metadata": {
        "id": "jLX73EvBu9ms"
      },
      "source": [
        "import matplotlib.pyplot as plt\n",
        "import seaborn as sns\n",
        "import numpy as np\n",
        "import pandas as pd\n",
        "import matplotlib.pyplot as plt \n",
        "from sklearn import preprocessing\n",
        "from sklearn.datasets import load_boston"
      ],
      "execution_count": 25,
      "outputs": []
    },
    {
      "cell_type": "code",
      "metadata": {
        "id": "Ba-K0MyGoNay"
      },
      "source": [
        "#extra import \n",
        "from tensorflow.keras.models import Sequential\n",
        "from tensorflow.keras.layers import Dense, Dropout, BatchNormalization, Activation\n",
        "from tensorflow.keras.callbacks import EarlyStopping, TensorBoard\n",
        "from tensorflow.keras.optimizers import Adam\n",
        "from tensorflow.keras.utils import to_categorical"
      ],
      "execution_count": 26,
      "outputs": []
    },
    {
      "cell_type": "code",
      "metadata": {
        "id": "K5uDujeqviOH"
      },
      "source": [
        "# load the boston housing data seet and return x y\n",
        "X, Y = load_boston(return_X_y=True)\n",
        "boston_X = X.shape[0]"
      ],
      "execution_count": 27,
      "outputs": []
    },
    {
      "cell_type": "markdown",
      "metadata": {
        "id": "sS7xCTZioeIK"
      },
      "source": [
        "Splitting data into training, validation and test sets:"
      ]
    },
    {
      "cell_type": "code",
      "metadata": {
        "id": "YWUhEmcaoYeW"
      },
      "source": [
        "\n",
        "# task 1\n",
        "valid_split = 0.2\n",
        "test_split  = 0.1\n",
        "\n",
        "v_split = int(X.shape[0]*(1-valid_split-test_split))\n",
        "t_split = int(X.shape[0]*(1-test_split))\n",
        "\n",
        "X_train, Y_train  = X[:v_split], Y[:v_split]\n",
        "X_valid, Y_valid  = X[v_split:t_split], Y[v_split:t_split]\n",
        "X_test , Y_test   = X[t_split:], Y[t_split:]\n"
      ],
      "execution_count": 28,
      "outputs": []
    },
    {
      "cell_type": "code",
      "metadata": {
        "id": "DZ4i2WfICROd"
      },
      "source": [
        ""
      ],
      "execution_count": 28,
      "outputs": []
    },
    {
      "cell_type": "markdown",
      "metadata": {
        "id": "n6awn-6uogmo"
      },
      "source": [
        "Standardization of the data:"
      ]
    },
    {
      "cell_type": "code",
      "metadata": {
        "colab": {
          "base_uri": "https://localhost:8080/"
        },
        "id": "rcCuGVpD39pz",
        "outputId": "c59625d5-1ac6-4082-f5d7-4423abf38c0e"
      },
      "source": [
        "X_train.shape"
      ],
      "execution_count": 29,
      "outputs": [
        {
          "output_type": "execute_result",
          "data": {
            "text/plain": [
              "(354, 13)"
            ]
          },
          "metadata": {},
          "execution_count": 29
        }
      ]
    },
    {
      "cell_type": "code",
      "metadata": {
        "id": "XSNawE7Zob_Y"
      },
      "source": [
        "# standardization\n",
        "scaler  = preprocessing.StandardScaler().fit(X_train) \n",
        "X_train = scaler.transform(X_train)\n",
        "X_valid = scaler.transform(X_valid)\n",
        "X_test = scaler.transform(X_test)"
      ],
      "execution_count": 30,
      "outputs": []
    },
    {
      "cell_type": "markdown",
      "metadata": {
        "id": "MpBJFHZvu9m2"
      },
      "source": [
        "Defining the model (with one or two hidden layers and 8-64 neurons / layer, the input and output layers' sizes are defined by the data):"
      ]
    },
    {
      "cell_type": "code",
      "metadata": {
        "id": "flEY3-qBorvA"
      },
      "source": [
        "model = Sequential()\n",
        "\n",
        "# Boston Housing Prices, target: Price => Y = 5.0 ... 30.0 => regression\n",
        "#  - number of neurons at the output: 1 (as we have only one target)\n",
        "#  - activation function at the output: linear\n",
        "#  - loss function: MSE\n",
        "# regression\n",
        "model.add(Dense(60, input_shape=(X_train.shape[1],), activation='sigmoid'))\n",
        "model.add(Dense(30, activation='sigmoid'))\n",
        "model.add(Dense(1, activation='linear', kernel_initializer='he_normal'))"
      ],
      "execution_count": 31,
      "outputs": []
    },
    {
      "cell_type": "markdown",
      "metadata": {
        "id": "efZ6M0Yh3WlT"
      },
      "source": [
        "Inspect the model summary:"
      ]
    },
    {
      "cell_type": "code",
      "metadata": {
        "id": "LhfnanAm3X9l",
        "colab": {
          "base_uri": "https://localhost:8080/"
        },
        "outputId": "3266304f-5eb3-486a-b16f-8a0b3939e7d8"
      },
      "source": [
        "model.summary()"
      ],
      "execution_count": 32,
      "outputs": [
        {
          "output_type": "stream",
          "name": "stdout",
          "text": [
            "Model: \"sequential_1\"\n",
            "_________________________________________________________________\n",
            "Layer (type)                 Output Shape              Param #   \n",
            "=================================================================\n",
            "dense_3 (Dense)              (None, 60)                840       \n",
            "_________________________________________________________________\n",
            "dense_4 (Dense)              (None, 30)                1830      \n",
            "_________________________________________________________________\n",
            "dense_5 (Dense)              (None, 1)                 31        \n",
            "=================================================================\n",
            "Total params: 2,701\n",
            "Trainable params: 2,701\n",
            "Non-trainable params: 0\n",
            "_________________________________________________________________\n"
          ]
        }
      ]
    },
    {
      "cell_type": "markdown",
      "metadata": {
        "id": "h3hCd6Cf3ZS1"
      },
      "source": [
        "Number of trainable parameters in the model: 1741"
      ]
    },
    {
      "cell_type": "markdown",
      "metadata": {
        "id": "ibjhW3pAoveO"
      },
      "source": [
        "Compiling the model:"
      ]
    },
    {
      "cell_type": "code",
      "metadata": {
        "id": "ztxln4VUow5q"
      },
      "source": [
        "#  - loss function: MSE\n",
        "model.compile(loss='mean_squared_error', optimizer=Adam(learning_rate=0.01))"
      ],
      "execution_count": 33,
      "outputs": []
    },
    {
      "cell_type": "markdown",
      "metadata": {
        "id": "zfmN2ROJo4xq"
      },
      "source": [
        "Defining the earlystopping callback function:"
      ]
    },
    {
      "cell_type": "code",
      "metadata": {
        "id": "fhQMRIhio3Js"
      },
      "source": [
        "earlystopping = EarlyStopping(monitor='val_loss', patience=20, verbose=1, restore_best_weights=True)"
      ],
      "execution_count": 34,
      "outputs": []
    },
    {
      "cell_type": "markdown",
      "metadata": {
        "id": "JqJNQCtB2k08"
      },
      "source": [
        "Train the model, use training and validation data and apply early stopping:"
      ]
    },
    {
      "cell_type": "code",
      "metadata": {
        "id": "oWDGwe862kQj",
        "colab": {
          "base_uri": "https://localhost:8080/"
        },
        "outputId": "956685e4-d0fc-4eec-96df-feb37a09f43d"
      },
      "source": [
        "model.fit(X_train, Y_train,\n",
        "          epochs=1000000000000000, \n",
        "          callbacks=[earlystopping],\n",
        "          batch_size=256, shuffle=True,  \n",
        "          validation_split=0.2)"
      ],
      "execution_count": 35,
      "outputs": [
        {
          "output_type": "stream",
          "name": "stdout",
          "text": [
            "Epoch 1/1000000000000000\n",
            "2/2 [==============================] - 1s 146ms/step - loss: 712.3156 - val_loss: 523.9061\n",
            "Epoch 2/1000000000000000\n",
            "2/2 [==============================] - 0s 30ms/step - loss: 645.7626 - val_loss: 468.7031\n",
            "Epoch 3/1000000000000000\n",
            "2/2 [==============================] - 0s 29ms/step - loss: 586.9973 - val_loss: 424.6339\n",
            "Epoch 4/1000000000000000\n",
            "2/2 [==============================] - 0s 23ms/step - loss: 539.9916 - val_loss: 391.3192\n",
            "Epoch 5/1000000000000000\n",
            "2/2 [==============================] - 0s 27ms/step - loss: 503.8471 - val_loss: 365.9188\n",
            "Epoch 6/1000000000000000\n",
            "2/2 [==============================] - 0s 22ms/step - loss: 476.3195 - val_loss: 345.7977\n",
            "Epoch 7/1000000000000000\n",
            "2/2 [==============================] - 0s 39ms/step - loss: 454.1208 - val_loss: 328.8268\n",
            "Epoch 8/1000000000000000\n",
            "2/2 [==============================] - 0s 28ms/step - loss: 435.2377 - val_loss: 313.6663\n",
            "Epoch 9/1000000000000000\n",
            "2/2 [==============================] - 0s 35ms/step - loss: 418.3754 - val_loss: 299.5496\n",
            "Epoch 10/1000000000000000\n",
            "2/2 [==============================] - 0s 23ms/step - loss: 402.8561 - val_loss: 286.1484\n",
            "Epoch 11/1000000000000000\n",
            "2/2 [==============================] - 0s 31ms/step - loss: 388.0861 - val_loss: 273.3366\n",
            "Epoch 12/1000000000000000\n",
            "2/2 [==============================] - 0s 24ms/step - loss: 373.8998 - val_loss: 260.9492\n",
            "Epoch 13/1000000000000000\n",
            "2/2 [==============================] - 0s 23ms/step - loss: 360.1700 - val_loss: 248.8154\n",
            "Epoch 14/1000000000000000\n",
            "2/2 [==============================] - 0s 25ms/step - loss: 346.7983 - val_loss: 236.8834\n",
            "Epoch 15/1000000000000000\n",
            "2/2 [==============================] - 0s 27ms/step - loss: 333.5910 - val_loss: 225.2700\n",
            "Epoch 16/1000000000000000\n",
            "2/2 [==============================] - 0s 53ms/step - loss: 320.4546 - val_loss: 214.0599\n",
            "Epoch 17/1000000000000000\n",
            "2/2 [==============================] - 0s 24ms/step - loss: 307.9362 - val_loss: 203.3064\n",
            "Epoch 18/1000000000000000\n",
            "2/2 [==============================] - 0s 31ms/step - loss: 295.8895 - val_loss: 193.0548\n",
            "Epoch 19/1000000000000000\n",
            "2/2 [==============================] - 0s 23ms/step - loss: 284.3681 - val_loss: 183.2629\n",
            "Epoch 20/1000000000000000\n",
            "2/2 [==============================] - 0s 22ms/step - loss: 273.4077 - val_loss: 173.9293\n",
            "Epoch 21/1000000000000000\n",
            "2/2 [==============================] - 0s 22ms/step - loss: 262.8698 - val_loss: 165.0771\n",
            "Epoch 22/1000000000000000\n",
            "2/2 [==============================] - 0s 24ms/step - loss: 252.7573 - val_loss: 156.6541\n",
            "Epoch 23/1000000000000000\n",
            "2/2 [==============================] - 0s 23ms/step - loss: 243.1798 - val_loss: 148.6262\n",
            "Epoch 24/1000000000000000\n",
            "2/2 [==============================] - 0s 23ms/step - loss: 233.9803 - val_loss: 141.0007\n",
            "Epoch 25/1000000000000000\n",
            "2/2 [==============================] - 0s 22ms/step - loss: 225.2513 - val_loss: 133.7873\n",
            "Epoch 26/1000000000000000\n",
            "2/2 [==============================] - 0s 41ms/step - loss: 216.8431 - val_loss: 126.9557\n",
            "Epoch 27/1000000000000000\n",
            "2/2 [==============================] - 0s 42ms/step - loss: 208.8414 - val_loss: 120.4183\n",
            "Epoch 28/1000000000000000\n",
            "2/2 [==============================] - 0s 25ms/step - loss: 201.3635 - val_loss: 114.2336\n",
            "Epoch 29/1000000000000000\n",
            "2/2 [==============================] - 0s 32ms/step - loss: 194.0166 - val_loss: 108.4341\n",
            "Epoch 30/1000000000000000\n",
            "2/2 [==============================] - 0s 22ms/step - loss: 187.0977 - val_loss: 102.9060\n",
            "Epoch 31/1000000000000000\n",
            "2/2 [==============================] - 0s 23ms/step - loss: 180.6501 - val_loss: 97.6774\n",
            "Epoch 32/1000000000000000\n",
            "2/2 [==============================] - 0s 22ms/step - loss: 174.4248 - val_loss: 92.8232\n",
            "Epoch 33/1000000000000000\n",
            "2/2 [==============================] - 0s 22ms/step - loss: 168.5090 - val_loss: 88.2804\n",
            "Epoch 34/1000000000000000\n",
            "2/2 [==============================] - 0s 35ms/step - loss: 163.0773 - val_loss: 84.0218\n",
            "Epoch 35/1000000000000000\n",
            "2/2 [==============================] - 0s 25ms/step - loss: 157.7950 - val_loss: 80.0238\n",
            "Epoch 36/1000000000000000\n",
            "2/2 [==============================] - 0s 23ms/step - loss: 152.8884 - val_loss: 76.2238\n",
            "Epoch 37/1000000000000000\n",
            "2/2 [==============================] - 0s 23ms/step - loss: 148.2084 - val_loss: 72.6405\n",
            "Epoch 38/1000000000000000\n",
            "2/2 [==============================] - 0s 22ms/step - loss: 143.7095 - val_loss: 69.2645\n",
            "Epoch 39/1000000000000000\n",
            "2/2 [==============================] - 0s 22ms/step - loss: 139.5047 - val_loss: 66.0892\n",
            "Epoch 40/1000000000000000\n",
            "2/2 [==============================] - 0s 23ms/step - loss: 135.4556 - val_loss: 63.1036\n",
            "Epoch 41/1000000000000000\n",
            "2/2 [==============================] - 0s 25ms/step - loss: 131.5775 - val_loss: 60.2250\n",
            "Epoch 42/1000000000000000\n",
            "2/2 [==============================] - 0s 23ms/step - loss: 127.8719 - val_loss: 57.4234\n",
            "Epoch 43/1000000000000000\n",
            "2/2 [==============================] - 0s 22ms/step - loss: 124.1240 - val_loss: 54.7623\n",
            "Epoch 44/1000000000000000\n",
            "2/2 [==============================] - 0s 25ms/step - loss: 120.5704 - val_loss: 52.3316\n",
            "Epoch 45/1000000000000000\n",
            "2/2 [==============================] - 0s 31ms/step - loss: 117.2784 - val_loss: 50.1594\n",
            "Epoch 46/1000000000000000\n",
            "2/2 [==============================] - 0s 23ms/step - loss: 114.2310 - val_loss: 48.1773\n",
            "Epoch 47/1000000000000000\n",
            "2/2 [==============================] - 0s 23ms/step - loss: 111.5120 - val_loss: 46.3629\n",
            "Epoch 48/1000000000000000\n",
            "2/2 [==============================] - 0s 22ms/step - loss: 108.8485 - val_loss: 44.7053\n",
            "Epoch 49/1000000000000000\n",
            "2/2 [==============================] - 0s 23ms/step - loss: 106.3856 - val_loss: 43.1532\n",
            "Epoch 50/1000000000000000\n",
            "2/2 [==============================] - 0s 25ms/step - loss: 104.0387 - val_loss: 41.7097\n",
            "Epoch 51/1000000000000000\n",
            "2/2 [==============================] - 0s 22ms/step - loss: 101.7773 - val_loss: 40.3996\n",
            "Epoch 52/1000000000000000\n",
            "2/2 [==============================] - 0s 27ms/step - loss: 99.5271 - val_loss: 39.2133\n",
            "Epoch 53/1000000000000000\n",
            "2/2 [==============================] - 0s 31ms/step - loss: 97.3194 - val_loss: 38.1317\n",
            "Epoch 54/1000000000000000\n",
            "2/2 [==============================] - 0s 24ms/step - loss: 95.0681 - val_loss: 37.1535\n",
            "Epoch 55/1000000000000000\n",
            "2/2 [==============================] - 0s 24ms/step - loss: 92.7752 - val_loss: 36.2705\n",
            "Epoch 56/1000000000000000\n",
            "2/2 [==============================] - 0s 24ms/step - loss: 90.5610 - val_loss: 35.4724\n",
            "Epoch 57/1000000000000000\n",
            "2/2 [==============================] - 0s 26ms/step - loss: 88.5349 - val_loss: 34.7462\n",
            "Epoch 58/1000000000000000\n",
            "2/2 [==============================] - 0s 26ms/step - loss: 86.6503 - val_loss: 34.0963\n",
            "Epoch 59/1000000000000000\n",
            "2/2 [==============================] - 0s 26ms/step - loss: 84.8194 - val_loss: 33.5199\n",
            "Epoch 60/1000000000000000\n",
            "2/2 [==============================] - 0s 26ms/step - loss: 83.0912 - val_loss: 33.0129\n",
            "Epoch 61/1000000000000000\n",
            "2/2 [==============================] - 0s 23ms/step - loss: 81.4044 - val_loss: 32.5816\n",
            "Epoch 62/1000000000000000\n",
            "2/2 [==============================] - 0s 22ms/step - loss: 79.7203 - val_loss: 32.2104\n",
            "Epoch 63/1000000000000000\n",
            "2/2 [==============================] - 0s 23ms/step - loss: 78.1522 - val_loss: 31.8789\n",
            "Epoch 64/1000000000000000\n",
            "2/2 [==============================] - 0s 23ms/step - loss: 76.6205 - val_loss: 31.5794\n",
            "Epoch 65/1000000000000000\n",
            "2/2 [==============================] - 0s 23ms/step - loss: 75.2145 - val_loss: 31.3140\n",
            "Epoch 66/1000000000000000\n",
            "2/2 [==============================] - 0s 22ms/step - loss: 73.8041 - val_loss: 31.0979\n",
            "Epoch 67/1000000000000000\n",
            "2/2 [==============================] - 0s 33ms/step - loss: 72.4583 - val_loss: 30.9380\n",
            "Epoch 68/1000000000000000\n",
            "2/2 [==============================] - 0s 25ms/step - loss: 71.2157 - val_loss: 30.8251\n",
            "Epoch 69/1000000000000000\n",
            "2/2 [==============================] - 0s 23ms/step - loss: 69.9976 - val_loss: 30.7415\n",
            "Epoch 70/1000000000000000\n",
            "2/2 [==============================] - 0s 28ms/step - loss: 68.9116 - val_loss: 30.6781\n",
            "Epoch 71/1000000000000000\n",
            "2/2 [==============================] - 0s 23ms/step - loss: 67.9002 - val_loss: 30.6319\n",
            "Epoch 72/1000000000000000\n",
            "2/2 [==============================] - 0s 28ms/step - loss: 66.9160 - val_loss: 30.6036\n",
            "Epoch 73/1000000000000000\n",
            "2/2 [==============================] - 0s 23ms/step - loss: 65.9498 - val_loss: 30.6052\n",
            "Epoch 74/1000000000000000\n",
            "2/2 [==============================] - 0s 24ms/step - loss: 65.0387 - val_loss: 30.6430\n",
            "Epoch 75/1000000000000000\n",
            "2/2 [==============================] - 0s 28ms/step - loss: 64.1868 - val_loss: 30.6956\n",
            "Epoch 76/1000000000000000\n",
            "2/2 [==============================] - 0s 22ms/step - loss: 63.3368 - val_loss: 30.7651\n",
            "Epoch 77/1000000000000000\n",
            "2/2 [==============================] - 0s 22ms/step - loss: 62.5979 - val_loss: 30.8830\n",
            "Epoch 78/1000000000000000\n",
            "2/2 [==============================] - 0s 23ms/step - loss: 61.8311 - val_loss: 31.0377\n",
            "Epoch 79/1000000000000000\n",
            "2/2 [==============================] - 0s 23ms/step - loss: 61.1081 - val_loss: 31.2061\n",
            "Epoch 80/1000000000000000\n",
            "2/2 [==============================] - 0s 25ms/step - loss: 60.3831 - val_loss: 31.3708\n",
            "Epoch 81/1000000000000000\n",
            "2/2 [==============================] - 0s 27ms/step - loss: 59.6783 - val_loss: 31.5191\n",
            "Epoch 82/1000000000000000\n",
            "2/2 [==============================] - 0s 25ms/step - loss: 59.0233 - val_loss: 31.6577\n",
            "Epoch 83/1000000000000000\n",
            "2/2 [==============================] - 0s 24ms/step - loss: 58.3951 - val_loss: 31.8018\n",
            "Epoch 84/1000000000000000\n",
            "2/2 [==============================] - 0s 23ms/step - loss: 57.7514 - val_loss: 31.9425\n",
            "Epoch 85/1000000000000000\n",
            "2/2 [==============================] - 0s 24ms/step - loss: 57.1579 - val_loss: 32.0590\n",
            "Epoch 86/1000000000000000\n",
            "2/2 [==============================] - 0s 24ms/step - loss: 56.5685 - val_loss: 32.1201\n",
            "Epoch 87/1000000000000000\n",
            "2/2 [==============================] - 0s 25ms/step - loss: 55.9661 - val_loss: 32.1071\n",
            "Epoch 88/1000000000000000\n",
            "2/2 [==============================] - 0s 24ms/step - loss: 55.4258 - val_loss: 32.0425\n",
            "Epoch 89/1000000000000000\n",
            "2/2 [==============================] - 0s 24ms/step - loss: 54.8350 - val_loss: 31.8968\n",
            "Epoch 90/1000000000000000\n",
            "2/2 [==============================] - 0s 24ms/step - loss: 54.2773 - val_loss: 31.6938\n",
            "Epoch 91/1000000000000000\n",
            "2/2 [==============================] - 0s 26ms/step - loss: 53.7401 - val_loss: 31.4146\n",
            "Epoch 92/1000000000000000\n",
            "2/2 [==============================] - 0s 24ms/step - loss: 53.2062 - val_loss: 31.0056\n",
            "Restoring model weights from the end of the best epoch.\n",
            "Epoch 00092: early stopping\n"
          ]
        },
        {
          "output_type": "execute_result",
          "data": {
            "text/plain": [
              "<keras.callbacks.History at 0x7fade817a850>"
            ]
          },
          "metadata": {},
          "execution_count": 35
        }
      ]
    },
    {
      "cell_type": "markdown",
      "metadata": {
        "id": "pCaNGjzQ2m9D"
      },
      "source": [
        "Evaluate on the test data:"
      ]
    },
    {
      "cell_type": "code",
      "metadata": {
        "id": "_MDJut_b3-6Q",
        "colab": {
          "base_uri": "https://localhost:8080/"
        },
        "outputId": "9c4cf00d-3c06-40e5-e3c8-c05df991a43b"
      },
      "source": [
        "print(model.evaluate(X_test,Y_test))"
      ],
      "execution_count": 36,
      "outputs": [
        {
          "output_type": "stream",
          "name": "stdout",
          "text": [
            "2/2 [==============================] - 0s 7ms/step - loss: 16.9662\n",
            "16.96622657775879\n"
          ]
        }
      ]
    },
    {
      "cell_type": "markdown",
      "metadata": {
        "id": "Gtd_UnfN4TPP"
      },
      "source": [
        "Make predictions:"
      ]
    },
    {
      "cell_type": "code",
      "metadata": {
        "id": "OhghFnnf4VA1"
      },
      "source": [
        "preds = model.predict(X_test)"
      ],
      "execution_count": 37,
      "outputs": []
    },
    {
      "cell_type": "markdown",
      "metadata": {
        "id": "cZkVPySYAddP"
      },
      "source": [
        "Inspecting the result on a regression plot:"
      ]
    },
    {
      "cell_type": "code",
      "metadata": {
        "id": "Uzv3YtGlAcl6",
        "colab": {
          "base_uri": "https://localhost:8080/",
          "height": 595
        },
        "outputId": "76a9085d-dde0-4e9f-a4c0-ad7b56a09f18"
      },
      "source": [
        "plt.figure(figsize=(10,10))\n",
        "sns.regplot(x=Y_test.reshape(-1), y=preds.reshape(-1)).set(xlim=(5,30),ylim=(5,30)); "
      ],
      "execution_count": 38,
      "outputs": [
        {
          "output_type": "display_data",
          "data": {
            "image/png": "[encoded data removed]",
            "text/plain": [
              "<Figure size 720x720 with 1 Axes>"
            ]
          },
          "metadata": {
            "needs_background": "light"
          }
        }
      ]
    },
    {
      "cell_type": "code",
      "metadata": {
        "colab": {
          "base_uri": "https://localhost:8080/"
        },
        "id": "RZdAzDzSIAHX",
        "outputId": "94ef09b7-8554-4db5-8835-ed25722f1ad5"
      },
      "source": [
        "from sklearn.linear_model import LinearRegression\n",
        "from sklearn import metrics\n",
        "# Create a Linear regressor\n",
        "lm = LinearRegression()\n",
        "\n",
        "# Train the model using the training sets \n",
        "lm.fit(X_train, Y_train)\n",
        "\n",
        "y_pred = lm.predict(X_train)\n",
        "print('MSE:',metrics.mean_squared_error(Y_train, y_pred))"
      ],
      "execution_count": 39,
      "outputs": [
        {
          "output_type": "stream",
          "name": "stdout",
          "text": [
            "MSE: 8.995382502997172\n"
          ]
        }
      ]
    },
    {
      "cell_type": "code",
      "metadata": {
        "colab": {
          "base_uri": "https://localhost:8080/",
          "height": 349
        },
        "id": "Q88l777GNCha",
        "outputId": "4038cba5-ee0f-4279-ff83-095423b3c16f"
      },
      "source": [
        "sns.distplot(Y_train-y_pred)\n",
        "plt.title(\"Histogram of Residuals\")\n",
        "plt.xlabel(\"Residuals\")\n",
        "plt.ylabel(\"Frequency\")\n",
        "plt.show()"
      ],
      "execution_count": 40,
      "outputs": [
        {
          "output_type": "stream",
          "name": "stderr",
          "text": [
            "/usr/local/lib/python3.7/dist-packages/seaborn/distributions.py:2619: FutureWarning: `distplot` is a deprecated function and will be removed in a future version. Please adapt your code to use either `displot` (a figure-level function with similar flexibility) or `histplot` (an axes-level function for histograms).\n",
            "  warnings.warn(msg, FutureWarning)\n"
          ]
        },
        {
          "output_type": "display_data",
          "data": {
            "image/png": "[encoded data removed]",
            "text/plain": [
              "<Figure size 432x288 with 1 Axes>"
            ]
          },
          "metadata": {
            "needs_background": "light"
          }
        }
      ]
    },
    {
      "cell_type": "code",
      "metadata": {
        "id": "cFVoA6PrNjWl"
      },
      "source": [
        ""
      ],
      "execution_count": 40,
      "outputs": []
    },
    {
      "cell_type": "code",
      "metadata": {
        "colab": {
          "base_uri": "https://localhost:8080/"
        },
        "id": "GpNzt8VxZtGh",
        "outputId": "db392da1-0ca5-474f-dea4-ca56fc6149b1"
      },
      "source": [
        "for i in range(len(preds)):\n",
        "  print(\"X1: %.2f\\tX2: %.2f\\tY: %d\\tPred: %.2f\" % (X_test[i,0], X_test[i,1], Y_test[i], preds[i]))"
      ],
      "execution_count": 41,
      "outputs": [
        {
          "output_type": "stream",
          "name": "stdout",
          "text": [
            "X1: 6.81\tX2: -0.61\tY: 14\tPred: 20.30\n",
            "X1: 6.68\tX2: -0.61\tY: 12\tPred: 18.91\n",
            "X1: 12.21\tX2: -0.61\tY: 13\tPred: 19.16\n",
            "X1: 11.51\tX2: -0.61\tY: 14\tPred: 21.21\n",
            "X1: 10.02\tX2: -0.61\tY: 20\tPred: 22.31\n",
            "X1: 6.91\tX2: -0.61\tY: 16\tPred: 22.05\n",
            "X1: 5.16\tX2: -0.61\tY: 17\tPred: 23.24\n",
            "X1: 9.79\tX2: -0.61\tY: 19\tPred: 22.81\n",
            "X1: 8.49\tX2: -0.61\tY: 20\tPred: 23.58\n",
            "X1: 11.65\tX2: -0.61\tY: 21\tPred: 23.16\n",
            "X1: 4.33\tX2: -0.61\tY: 19\tPred: 23.46\n",
            "X1: 5.28\tX2: -0.61\tY: 19\tPred: 20.04\n",
            "X1: 6.30\tX2: -0.61\tY: 19\tPred: 20.80\n",
            "X1: 23.76\tX2: -0.61\tY: 19\tPred: 20.88\n",
            "X1: 19.84\tX2: -0.61\tY: 20\tPred: 22.05\n",
            "X1: 6.18\tX2: -0.61\tY: 19\tPred: 23.15\n",
            "X1: 5.70\tX2: -0.61\tY: 19\tPred: 23.77\n",
            "X1: 4.96\tX2: -0.61\tY: 23\tPred: 23.89\n",
            "X1: 6.65\tX2: -0.61\tY: 29\tPred: 24.14\n",
            "X1: 11.99\tX2: -0.61\tY: 13\tPred: 20.10\n",
            "X1: 9.38\tX2: -0.61\tY: 13\tPred: 19.40\n",
            "X1: 7.00\tX2: -0.61\tY: 16\tPred: 22.55\n",
            "X1: 22.89\tX2: -0.61\tY: 12\tPred: 17.76\n",
            "X1: 15.39\tX2: -0.61\tY: 14\tPred: 21.03\n",
            "X1: 21.81\tX2: -0.61\tY: 21\tPred: 22.07\n",
            "X1: 8.49\tX2: -0.61\tY: 23\tPred: 24.00\n",
            "X1: 8.31\tX2: -0.61\tY: 23\tPred: 24.25\n",
            "X1: 8.35\tX2: -0.61\tY: 25\tPred: 24.32\n",
            "X1: 3.79\tX2: -0.61\tY: 21\tPred: 24.30\n",
            "X1: 3.10\tX2: -0.61\tY: 20\tPred: 24.13\n",
            "X1: 5.13\tX2: -0.61\tY: 21\tPred: 24.24\n",
            "X1: 8.28\tX2: -0.61\tY: 19\tPred: 23.08\n",
            "X1: 6.94\tX2: -0.61\tY: 20\tPred: 23.90\n",
            "X1: -0.39\tX2: -0.61\tY: 15\tPred: 15.42\n",
            "X1: -0.34\tX2: -0.61\tY: 7\tPred: 14.43\n",
            "X1: -0.30\tX2: -0.61\tY: 8\tPred: 14.07\n",
            "X1: -0.46\tX2: -0.61\tY: 13\tPred: 15.84\n",
            "X1: -0.45\tX2: -0.61\tY: 20\tPred: 17.84\n",
            "X1: -0.35\tX2: -0.61\tY: 21\tPred: 23.58\n",
            "X1: -0.19\tX2: -0.61\tY: 24\tPred: 23.76\n",
            "X1: -0.34\tX2: -0.61\tY: 23\tPred: 22.92\n",
            "X1: -0.17\tX2: -0.61\tY: 19\tPred: 17.85\n",
            "X1: -0.20\tX2: -0.61\tY: 18\tPred: 22.20\n",
            "X1: -0.25\tX2: -0.61\tY: 21\tPred: 23.33\n",
            "X1: -0.35\tX2: -0.61\tY: 17\tPred: 21.15\n",
            "X1: -0.27\tX2: -0.61\tY: 16\tPred: 22.18\n",
            "X1: -0.53\tX2: -0.61\tY: 22\tPred: 23.50\n",
            "X1: -0.55\tX2: -0.61\tY: 20\tPred: 22.67\n",
            "X1: -0.53\tX2: -0.61\tY: 23\tPred: 24.11\n",
            "X1: -0.45\tX2: -0.61\tY: 22\tPred: 23.83\n",
            "X1: -0.55\tX2: -0.61\tY: 11\tPred: 22.73\n"
          ]
        }
      ]
    },
    {
      "cell_type": "code",
      "metadata": {
        "id": "L3iGLifFaPGP"
      },
      "source": [
        ""
      ],
      "execution_count": 41,
      "outputs": []
    }
  ]
}