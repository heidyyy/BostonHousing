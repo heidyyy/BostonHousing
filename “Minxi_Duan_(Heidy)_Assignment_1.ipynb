{
  "nbformat": 4,
  "nbformat_minor": 0,
  "metadata": {
    "kernelspec": {
      "display_name": "Python 3",
      "language": "python",
      "name": "python3"
    },
    "language_info": {
      "codemirror_mode": {
        "name": "ipython",
        "version": 3
      },
      "file_extension": ".py",
      "mimetype": "text/x-python",
      "name": "python",
      "nbconvert_exporter": "python",
      "pygments_lexer": "ipython3",
      "version": "3.6.6"
    },
    "colab": {
      "name": "“Minxi Duan (Heidy) Assignment 1”的副本",
      "provenance": [],
      "collapsed_sections": [],
      "include_colab_link": true
    },
    "accelerator": "GPU"
  },
  "cells": [
    {
      "cell_type": "markdown",
      "metadata": {
        "id": "view-in-github",
        "colab_type": "text"
      },
      "source": [
        "<a href=\"https://colab.research.google.com/github/heidyyy/BostonHousing/blob/main/%E2%80%9CMinxi_Duan_(Heidy)_Assignment_1.ipynb\" target=\"_parent\"><img src=\"https://colab.research.google.com/assets/colab-badge.svg\" alt=\"Open In Colab\"/></a>"
      ]
    },
    {
      "cell_type": "markdown",
      "metadata": {
        "id": "_jiGtJu6u9ml"
      },
      "source": [
        "# Copyright\n",
        "\n",
        "<PRE>\n",
        "Copyright (c) 2020 Bálint Gyires-Tóth - All Rights Reserved\n",
        "You may use and modify this code for research and development purpuses.\n",
        "Use this code for educational purposes (self-paced or instructor led) without the permission of the author is prohibited.\n",
        "</PRE>"
      ]
    },
    {
      "cell_type": "markdown",
      "metadata": {
        "id": "oXyFC44jV-PP"
      },
      "source": [
        "\n",
        "\n",
        "# Boston housing prices - modeling\n",
        "In this notebook we will: \n",
        "* using Boston housing data (https://www.cs.toronto.edu/~delve/data/boston/bostonDetail.html)\n",
        "* exploring the data\n",
        "* creating a model\n",
        "* training the model\n",
        "* evaluation on test data\n",
        "* making predictions and regression plot\n",
        "\n",
        "Assigment: \n",
        "* please complete TODO parts\n"
      ]
    },
    {
      "cell_type": "code",
      "metadata": {
        "id": "jLX73EvBu9ms"
      },
      "source": [
        "import matplotlib.pyplot as plt\n",
        "import seaborn as sns\n",
        "import numpy as np\n",
        "import pandas as pd\n",
        "import matplotlib.pyplot as plt \n",
        "from sklearn import preprocessing\n",
        "from sklearn.datasets import load_boston"
      ],
      "execution_count": 42,
      "outputs": []
    },
    {
      "cell_type": "code",
      "metadata": {
        "id": "Ba-K0MyGoNay"
      },
      "source": [
        "#extra import \n",
        "from tensorflow.keras.models import Sequential\n",
        "from tensorflow.keras.layers import Dense, Dropout, BatchNormalization, Activation\n",
        "from tensorflow.keras.callbacks import EarlyStopping, TensorBoard\n",
        "from tensorflow.keras.optimizers import Adam\n",
        "from tensorflow.keras.utils import to_categorical"
      ],
      "execution_count": 43,
      "outputs": []
    },
    {
      "cell_type": "code",
      "metadata": {
        "id": "K5uDujeqviOH"
      },
      "source": [
        "# load the boston housing data seet and return x y\n",
        "X, Y = load_boston(return_X_y=True)\n",
        "boston_X = X.shape[0]"
      ],
      "execution_count": 44,
      "outputs": []
    },
    {
      "cell_type": "markdown",
      "metadata": {
        "id": "sS7xCTZioeIK"
      },
      "source": [
        "Splitting data into training, validation and test sets:"
      ]
    },
    {
      "cell_type": "code",
      "metadata": {
        "id": "YWUhEmcaoYeW"
      },
      "source": [
        "\n",
        "# task 1\n",
        "valid_split = 0.2\n",
        "test_split  = 0.1\n",
        "\n",
        "v_split = int(X.shape[0]*(1-valid_split-test_split))\n",
        "t_split = int(X.shape[0]*(1-test_split))\n",
        "\n",
        "X_train, Y_train  = X[:v_split], Y[:v_split]\n",
        "X_valid, Y_valid  = X[v_split:t_split], Y[v_split:t_split]\n",
        "X_test , Y_test   = X[t_split:], Y[t_split:]\n"
      ],
      "execution_count": 45,
      "outputs": []
    },
    {
      "cell_type": "code",
      "metadata": {
        "id": "DZ4i2WfICROd"
      },
      "source": [
        ""
      ],
      "execution_count": 45,
      "outputs": []
    },
    {
      "cell_type": "markdown",
      "metadata": {
        "id": "n6awn-6uogmo"
      },
      "source": [
        "Standardization of the data:"
      ]
    },
    {
      "cell_type": "code",
      "metadata": {
        "colab": {
          "base_uri": "https://localhost:8080/"
        },
        "id": "rcCuGVpD39pz",
        "outputId": "9c339999-b703-415c-d2c4-a9cf2de32051"
      },
      "source": [
        "X_train.shape"
      ],
      "execution_count": 46,
      "outputs": [
        {
          "output_type": "execute_result",
          "data": {
            "text/plain": [
              "(354, 13)"
            ]
          },
          "metadata": {},
          "execution_count": 46
        }
      ]
    },
    {
      "cell_type": "code",
      "metadata": {
        "id": "XSNawE7Zob_Y"
      },
      "source": [
        "# standardization\n",
        "scaler  = preprocessing.StandardScaler().fit(X_train) \n",
        "X_train = scaler.transform(X_train)\n",
        "X_valid = scaler.transform(X_valid)\n",
        "X_test = scaler.transform(X_test)"
      ],
      "execution_count": 47,
      "outputs": []
    },
    {
      "cell_type": "markdown",
      "metadata": {
        "id": "MpBJFHZvu9m2"
      },
      "source": [
        "Defining the model (with one or two hidden layers and 8-64 neurons / layer, the input and output layers' sizes are defined by the data):"
      ]
    },
    {
      "cell_type": "code",
      "metadata": {
        "id": "flEY3-qBorvA"
      },
      "source": [
        "model = Sequential()\n",
        "\n",
        "# Boston Housing Prices, target: Price => Y = 5.0 ... 30.0 => regression\n",
        "#  - number of neurons at the output: 1 (as we have only one target)\n",
        "#  - activation function at the output: linear\n",
        "#  - loss function: MSE\n",
        "# regression\n",
        "model.add(Dense(60, input_shape=(X_train.shape[1],), activation='sigmoid'))\n",
        "model.add(Dense(30, activation='sigmoid'))\n",
        "model.add(Dense(1, activation='linear', kernel_initializer='he_normal'))"
      ],
      "execution_count": 48,
      "outputs": []
    },
    {
      "cell_type": "markdown",
      "metadata": {
        "id": "efZ6M0Yh3WlT"
      },
      "source": [
        "Inspect the model summary:"
      ]
    },
    {
      "cell_type": "code",
      "metadata": {
        "id": "LhfnanAm3X9l",
        "colab": {
          "base_uri": "https://localhost:8080/"
        },
        "outputId": "a0e838fe-c675-4745-b8c6-66de8274d6b8"
      },
      "source": [
        "model.summary()"
      ],
      "execution_count": 49,
      "outputs": [
        {
          "output_type": "stream",
          "name": "stdout",
          "text": [
            "Model: \"sequential_2\"\n",
            "_________________________________________________________________\n",
            "Layer (type)                 Output Shape              Param #   \n",
            "=================================================================\n",
            "dense_6 (Dense)              (None, 60)                840       \n",
            "_________________________________________________________________\n",
            "dense_7 (Dense)              (None, 30)                1830      \n",
            "_________________________________________________________________\n",
            "dense_8 (Dense)              (None, 1)                 31        \n",
            "=================================================================\n",
            "Total params: 2,701\n",
            "Trainable params: 2,701\n",
            "Non-trainable params: 0\n",
            "_________________________________________________________________\n"
          ]
        }
      ]
    },
    {
      "cell_type": "markdown",
      "metadata": {
        "id": "h3hCd6Cf3ZS1"
      },
      "source": [
        "Number of trainable parameters in the model: 1741"
      ]
    },
    {
      "cell_type": "markdown",
      "metadata": {
        "id": "ibjhW3pAoveO"
      },
      "source": [
        "Compiling the model:"
      ]
    },
    {
      "cell_type": "code",
      "metadata": {
        "id": "ztxln4VUow5q"
      },
      "source": [
        "#  - loss function: MSE\n",
        "model.compile(loss='mean_squared_error', optimizer=Adam(learning_rate=0.01))"
      ],
      "execution_count": 50,
      "outputs": []
    },
    {
      "cell_type": "markdown",
      "metadata": {
        "id": "zfmN2ROJo4xq"
      },
      "source": [
        "Defining the earlystopping callback function:"
      ]
    },
    {
      "cell_type": "code",
      "metadata": {
        "id": "fhQMRIhio3Js"
      },
      "source": [
        "earlystopping = EarlyStopping(monitor='val_loss', patience=20, verbose=1, restore_best_weights=True)"
      ],
      "execution_count": 51,
      "outputs": []
    },
    {
      "cell_type": "markdown",
      "metadata": {
        "id": "JqJNQCtB2k08"
      },
      "source": [
        "Train the model, use training and validation data and apply early stopping:"
      ]
    },
    {
      "cell_type": "code",
      "metadata": {
        "id": "oWDGwe862kQj",
        "colab": {
          "base_uri": "https://localhost:8080/"
        },
        "outputId": "416300fd-7c12-4f65-de94-8480f8d265a1"
      },
      "source": [
        "model.fit(X_train, Y_train,\n",
        "          epochs=1000000000000000, \n",
        "          callbacks=[earlystopping],\n",
        "          batch_size=256, shuffle=True,  \n",
        "          validation_split=0.2)"
      ],
      "execution_count": 52,
      "outputs": [
        {
          "output_type": "stream",
          "name": "stdout",
          "text": [
            "Epoch 1/1000000000000000\n",
            "2/2 [==============================] - 1s 139ms/step - loss: 712.1352 - val_loss: 526.2438\n",
            "Epoch 2/1000000000000000\n",
            "2/2 [==============================] - 0s 22ms/step - loss: 646.8448 - val_loss: 473.0222\n",
            "Epoch 3/1000000000000000\n",
            "2/2 [==============================] - 0s 23ms/step - loss: 590.3541 - val_loss: 430.6227\n",
            "Epoch 4/1000000000000000\n",
            "2/2 [==============================] - 0s 21ms/step - loss: 545.5370 - val_loss: 398.5705\n",
            "Epoch 5/1000000000000000\n",
            "2/2 [==============================] - 0s 23ms/step - loss: 511.2656 - val_loss: 374.1426\n",
            "Epoch 6/1000000000000000\n",
            "2/2 [==============================] - 0s 22ms/step - loss: 484.7387 - val_loss: 354.5085\n",
            "Epoch 7/1000000000000000\n",
            "2/2 [==============================] - 0s 23ms/step - loss: 463.1015 - val_loss: 337.5774\n",
            "Epoch 8/1000000000000000\n",
            "2/2 [==============================] - 0s 22ms/step - loss: 444.5123 - val_loss: 322.2815\n",
            "Epoch 9/1000000000000000\n",
            "2/2 [==============================] - 0s 22ms/step - loss: 427.5900 - val_loss: 307.9938\n",
            "Epoch 10/1000000000000000\n",
            "2/2 [==============================] - 0s 24ms/step - loss: 411.9041 - val_loss: 294.3814\n",
            "Epoch 11/1000000000000000\n",
            "2/2 [==============================] - 0s 25ms/step - loss: 396.9875 - val_loss: 281.3329\n",
            "Epoch 12/1000000000000000\n",
            "2/2 [==============================] - 0s 22ms/step - loss: 382.7609 - val_loss: 268.8232\n",
            "Epoch 13/1000000000000000\n",
            "2/2 [==============================] - 0s 23ms/step - loss: 368.9381 - val_loss: 256.7587\n",
            "Epoch 14/1000000000000000\n",
            "2/2 [==============================] - 0s 27ms/step - loss: 355.5443 - val_loss: 244.9310\n",
            "Epoch 15/1000000000000000\n",
            "2/2 [==============================] - 0s 22ms/step - loss: 342.2159 - val_loss: 233.1197\n",
            "Epoch 16/1000000000000000\n",
            "2/2 [==============================] - 0s 22ms/step - loss: 329.2737 - val_loss: 221.4265\n",
            "Epoch 17/1000000000000000\n",
            "2/2 [==============================] - 0s 22ms/step - loss: 316.0956 - val_loss: 210.1763\n",
            "Epoch 18/1000000000000000\n",
            "2/2 [==============================] - 0s 22ms/step - loss: 303.4615 - val_loss: 199.4811\n",
            "Epoch 19/1000000000000000\n",
            "2/2 [==============================] - 0s 23ms/step - loss: 291.6499 - val_loss: 189.3987\n",
            "Epoch 20/1000000000000000\n",
            "2/2 [==============================] - 0s 22ms/step - loss: 280.3485 - val_loss: 179.9123\n",
            "Epoch 21/1000000000000000\n",
            "2/2 [==============================] - 0s 29ms/step - loss: 269.4757 - val_loss: 170.8364\n",
            "Epoch 22/1000000000000000\n",
            "2/2 [==============================] - 0s 27ms/step - loss: 259.3636 - val_loss: 162.1288\n",
            "Epoch 23/1000000000000000\n",
            "2/2 [==============================] - 0s 25ms/step - loss: 249.3960 - val_loss: 153.8385\n",
            "Epoch 24/1000000000000000\n",
            "2/2 [==============================] - 0s 23ms/step - loss: 240.0129 - val_loss: 145.9515\n",
            "Epoch 25/1000000000000000\n",
            "2/2 [==============================] - 0s 22ms/step - loss: 230.8890 - val_loss: 138.4532\n",
            "Epoch 26/1000000000000000\n",
            "2/2 [==============================] - 0s 22ms/step - loss: 222.3285 - val_loss: 131.3169\n",
            "Epoch 27/1000000000000000\n",
            "2/2 [==============================] - 0s 23ms/step - loss: 214.0735 - val_loss: 124.5597\n",
            "Epoch 28/1000000000000000\n",
            "2/2 [==============================] - 0s 26ms/step - loss: 206.2230 - val_loss: 118.1250\n",
            "Epoch 29/1000000000000000\n",
            "2/2 [==============================] - 0s 24ms/step - loss: 198.5676 - val_loss: 111.8583\n",
            "Epoch 30/1000000000000000\n",
            "2/2 [==============================] - 0s 23ms/step - loss: 191.2286 - val_loss: 105.6884\n",
            "Epoch 31/1000000000000000\n",
            "2/2 [==============================] - 0s 44ms/step - loss: 183.7606 - val_loss: 99.7247\n",
            "Epoch 32/1000000000000000\n",
            "2/2 [==============================] - 0s 23ms/step - loss: 176.7371 - val_loss: 94.1222\n",
            "Epoch 33/1000000000000000\n",
            "2/2 [==============================] - 0s 24ms/step - loss: 169.9606 - val_loss: 88.9269\n",
            "Epoch 34/1000000000000000\n",
            "2/2 [==============================] - 0s 22ms/step - loss: 163.6230 - val_loss: 84.0159\n",
            "Epoch 35/1000000000000000\n",
            "2/2 [==============================] - 0s 22ms/step - loss: 157.6476 - val_loss: 79.3465\n",
            "Epoch 36/1000000000000000\n",
            "2/2 [==============================] - 0s 28ms/step - loss: 152.0653 - val_loss: 75.0089\n",
            "Epoch 37/1000000000000000\n",
            "2/2 [==============================] - 0s 24ms/step - loss: 146.5258 - val_loss: 70.9877\n",
            "Epoch 38/1000000000000000\n",
            "2/2 [==============================] - 0s 25ms/step - loss: 141.6501 - val_loss: 67.2621\n",
            "Epoch 39/1000000000000000\n",
            "2/2 [==============================] - 0s 28ms/step - loss: 136.8642 - val_loss: 63.8681\n",
            "Epoch 40/1000000000000000\n",
            "2/2 [==============================] - 0s 23ms/step - loss: 132.5870 - val_loss: 60.7726\n",
            "Epoch 41/1000000000000000\n",
            "2/2 [==============================] - 0s 28ms/step - loss: 128.5728 - val_loss: 57.9844\n",
            "Epoch 42/1000000000000000\n",
            "2/2 [==============================] - 0s 25ms/step - loss: 124.8794 - val_loss: 55.4500\n",
            "Epoch 43/1000000000000000\n",
            "2/2 [==============================] - 0s 23ms/step - loss: 121.4828 - val_loss: 53.1153\n",
            "Epoch 44/1000000000000000\n",
            "2/2 [==============================] - 0s 23ms/step - loss: 118.3363 - val_loss: 50.9587\n",
            "Epoch 45/1000000000000000\n",
            "2/2 [==============================] - 0s 26ms/step - loss: 115.4387 - val_loss: 49.0048\n",
            "Epoch 46/1000000000000000\n",
            "2/2 [==============================] - 0s 26ms/step - loss: 112.6624 - val_loss: 47.2408\n",
            "Epoch 47/1000000000000000\n",
            "2/2 [==============================] - 0s 23ms/step - loss: 110.0746 - val_loss: 45.5850\n",
            "Epoch 48/1000000000000000\n",
            "2/2 [==============================] - 0s 22ms/step - loss: 107.6951 - val_loss: 44.0194\n",
            "Epoch 49/1000000000000000\n",
            "2/2 [==============================] - 0s 24ms/step - loss: 105.3440 - val_loss: 42.5672\n",
            "Epoch 50/1000000000000000\n",
            "2/2 [==============================] - 0s 24ms/step - loss: 103.1040 - val_loss: 41.2303\n",
            "Epoch 51/1000000000000000\n",
            "2/2 [==============================] - 0s 29ms/step - loss: 100.9012 - val_loss: 40.0064\n",
            "Epoch 52/1000000000000000\n",
            "2/2 [==============================] - 0s 24ms/step - loss: 98.6753 - val_loss: 38.8703\n",
            "Epoch 53/1000000000000000\n",
            "2/2 [==============================] - 0s 23ms/step - loss: 96.5008 - val_loss: 37.8388\n",
            "Epoch 54/1000000000000000\n",
            "2/2 [==============================] - 0s 27ms/step - loss: 94.2405 - val_loss: 36.9284\n",
            "Epoch 55/1000000000000000\n",
            "2/2 [==============================] - 0s 23ms/step - loss: 92.1027 - val_loss: 36.1048\n",
            "Epoch 56/1000000000000000\n",
            "2/2 [==============================] - 0s 27ms/step - loss: 90.1976 - val_loss: 35.3459\n",
            "Epoch 57/1000000000000000\n",
            "2/2 [==============================] - 0s 24ms/step - loss: 88.4176 - val_loss: 34.6519\n",
            "Epoch 58/1000000000000000\n",
            "2/2 [==============================] - 0s 41ms/step - loss: 86.7406 - val_loss: 34.0400\n",
            "Epoch 59/1000000000000000\n",
            "2/2 [==============================] - 0s 25ms/step - loss: 84.9062 - val_loss: 33.4977\n",
            "Epoch 60/1000000000000000\n",
            "2/2 [==============================] - 0s 23ms/step - loss: 83.1318 - val_loss: 33.0105\n",
            "Epoch 61/1000000000000000\n",
            "2/2 [==============================] - 0s 29ms/step - loss: 81.3427 - val_loss: 32.5855\n",
            "Epoch 62/1000000000000000\n",
            "2/2 [==============================] - 0s 23ms/step - loss: 79.6371 - val_loss: 32.2213\n",
            "Epoch 63/1000000000000000\n",
            "2/2 [==============================] - 0s 24ms/step - loss: 77.9965 - val_loss: 31.9141\n",
            "Epoch 64/1000000000000000\n",
            "2/2 [==============================] - 0s 25ms/step - loss: 76.5152 - val_loss: 31.6516\n",
            "Epoch 65/1000000000000000\n",
            "2/2 [==============================] - 0s 29ms/step - loss: 75.1055 - val_loss: 31.4285\n",
            "Epoch 66/1000000000000000\n",
            "2/2 [==============================] - 0s 26ms/step - loss: 73.8352 - val_loss: 31.2390\n",
            "Epoch 67/1000000000000000\n",
            "2/2 [==============================] - 0s 24ms/step - loss: 72.5883 - val_loss: 31.0735\n",
            "Epoch 68/1000000000000000\n",
            "2/2 [==============================] - 0s 27ms/step - loss: 71.4821 - val_loss: 30.9251\n",
            "Epoch 69/1000000000000000\n",
            "2/2 [==============================] - 0s 23ms/step - loss: 70.3702 - val_loss: 30.8040\n",
            "Epoch 70/1000000000000000\n",
            "2/2 [==============================] - 0s 24ms/step - loss: 69.2863 - val_loss: 30.7200\n",
            "Epoch 71/1000000000000000\n",
            "2/2 [==============================] - 0s 23ms/step - loss: 68.3075 - val_loss: 30.6696\n",
            "Epoch 72/1000000000000000\n",
            "2/2 [==============================] - 0s 24ms/step - loss: 67.3297 - val_loss: 30.6481\n",
            "Epoch 73/1000000000000000\n",
            "2/2 [==============================] - 0s 22ms/step - loss: 66.4526 - val_loss: 30.6471\n",
            "Epoch 74/1000000000000000\n",
            "2/2 [==============================] - 0s 26ms/step - loss: 65.5812 - val_loss: 30.6594\n",
            "Epoch 75/1000000000000000\n",
            "2/2 [==============================] - 0s 27ms/step - loss: 64.8002 - val_loss: 30.6911\n",
            "Epoch 76/1000000000000000\n",
            "2/2 [==============================] - 0s 23ms/step - loss: 64.0318 - val_loss: 30.7383\n",
            "Epoch 77/1000000000000000\n",
            "2/2 [==============================] - 0s 23ms/step - loss: 63.3051 - val_loss: 30.8181\n",
            "Epoch 78/1000000000000000\n",
            "2/2 [==============================] - 0s 25ms/step - loss: 62.5738 - val_loss: 30.9465\n",
            "Epoch 79/1000000000000000\n",
            "2/2 [==============================] - 0s 23ms/step - loss: 61.8630 - val_loss: 31.1044\n",
            "Epoch 80/1000000000000000\n",
            "2/2 [==============================] - 0s 27ms/step - loss: 61.1232 - val_loss: 31.2809\n",
            "Epoch 81/1000000000000000\n",
            "2/2 [==============================] - 0s 25ms/step - loss: 60.4842 - val_loss: 31.4559\n",
            "Epoch 82/1000000000000000\n",
            "2/2 [==============================] - 0s 25ms/step - loss: 59.7935 - val_loss: 31.6173\n",
            "Epoch 83/1000000000000000\n",
            "2/2 [==============================] - 0s 23ms/step - loss: 59.1882 - val_loss: 31.7960\n",
            "Epoch 84/1000000000000000\n",
            "2/2 [==============================] - 0s 22ms/step - loss: 58.5423 - val_loss: 32.0023\n",
            "Epoch 85/1000000000000000\n",
            "2/2 [==============================] - 0s 23ms/step - loss: 57.9341 - val_loss: 32.2207\n",
            "Epoch 86/1000000000000000\n",
            "2/2 [==============================] - 0s 24ms/step - loss: 57.3397 - val_loss: 32.4426\n",
            "Epoch 87/1000000000000000\n",
            "2/2 [==============================] - 0s 25ms/step - loss: 56.7413 - val_loss: 32.6703\n",
            "Epoch 88/1000000000000000\n",
            "2/2 [==============================] - 0s 26ms/step - loss: 56.1796 - val_loss: 32.8803\n",
            "Epoch 89/1000000000000000\n",
            "2/2 [==============================] - 0s 25ms/step - loss: 55.6043 - val_loss: 33.0938\n",
            "Epoch 90/1000000000000000\n",
            "2/2 [==============================] - 0s 24ms/step - loss: 55.0632 - val_loss: 33.3060\n",
            "Epoch 91/1000000000000000\n",
            "2/2 [==============================] - 0s 24ms/step - loss: 54.5169 - val_loss: 33.4485\n",
            "Epoch 92/1000000000000000\n",
            "2/2 [==============================] - 0s 23ms/step - loss: 53.9956 - val_loss: 33.5263\n",
            "Epoch 93/1000000000000000\n",
            "2/2 [==============================] - 0s 27ms/step - loss: 53.5087 - val_loss: 33.5326\n",
            "Restoring model weights from the end of the best epoch.\n",
            "Epoch 00093: early stopping\n"
          ]
        },
        {
          "output_type": "execute_result",
          "data": {
            "text/plain": [
              "<keras.callbacks.History at 0x7fadee16e410>"
            ]
          },
          "metadata": {},
          "execution_count": 52
        }
      ]
    },
    {
      "cell_type": "markdown",
      "metadata": {
        "id": "pCaNGjzQ2m9D"
      },
      "source": [
        "Evaluate on the test data:"
      ]
    },
    {
      "cell_type": "code",
      "metadata": {
        "id": "_MDJut_b3-6Q",
        "colab": {
          "base_uri": "https://localhost:8080/"
        },
        "outputId": "20e015bb-9129-4996-fc82-bb3e761ea933"
      },
      "source": [
        "print(model.evaluate(X_test,Y_test))"
      ],
      "execution_count": 53,
      "outputs": [
        {
          "output_type": "stream",
          "name": "stdout",
          "text": [
            "2/2 [==============================] - 0s 7ms/step - loss: 12.1325\n",
            "12.132474899291992\n"
          ]
        }
      ]
    },
    {
      "cell_type": "markdown",
      "metadata": {
        "id": "Gtd_UnfN4TPP"
      },
      "source": [
        "Make predictions:"
      ]
    },
    {
      "cell_type": "code",
      "metadata": {
        "id": "OhghFnnf4VA1"
      },
      "source": [
        "preds = model.predict(X_test)"
      ],
      "execution_count": 54,
      "outputs": []
    },
    {
      "cell_type": "markdown",
      "metadata": {
        "id": "cZkVPySYAddP"
      },
      "source": [
        "Inspecting the result on a regression plot:"
      ]
    },
    {
      "cell_type": "code",
      "metadata": {
        "id": "Uzv3YtGlAcl6",
        "colab": {
          "base_uri": "https://localhost:8080/",
          "height": 595
        },
        "outputId": "a6c4c5d5-f2c5-4fe4-835e-28a4e65a57f8"
      },
      "source": [
        "plt.figure(figsize=(10,10))\n",
        "sns.regplot(x=Y_test.reshape(-1), y=preds.reshape(-1)).set(xlim=(5,30),ylim=(5,30)); "
      ],
      "execution_count": 55,
      "outputs": [
        {
          "output_type": "display_data",
          "data": {
            "image/png": "[encoded data removed]",
            "text/plain": [
              "<Figure size 720x720 with 1 Axes>"
            ]
          },
          "metadata": {
            "needs_background": "light"
          }
        }
      ]
    },
    {
      "cell_type": "code",
      "metadata": {
        "id": "RZdAzDzSIAHX"
      },
      "source": [
        "# from sklearn.linear_model import LinearRegression\n",
        "# from sklearn import metrics\n",
        "# # Create a Linear regressor\n",
        "# lm = LinearRegression()\n",
        "\n",
        "# # Train the model using the training sets \n",
        "# lm.fit(X_train, Y_train)\n",
        "\n",
        "# y_pred = lm.predict(X_train)\n",
        "# print('MSE:',metrics.mean_squared_error(Y_train, y_pred))"
      ],
      "execution_count": 56,
      "outputs": []
    },
    {
      "cell_type": "code",
      "metadata": {
        "id": "Q88l777GNCha"
      },
      "source": [
        "# sns.distplot(Y_train-y_pred)\n",
        "# plt.title(\"Histogram of Residuals\")\n",
        "# plt.xlabel(\"Residuals\")\n",
        "# plt.ylabel(\"Frequency\")\n",
        "# plt.show()"
      ],
      "execution_count": 57,
      "outputs": []
    },
    {
      "cell_type": "code",
      "metadata": {
        "id": "cFVoA6PrNjWl"
      },
      "source": [
        ""
      ],
      "execution_count": 57,
      "outputs": []
    },
    {
      "cell_type": "code",
      "metadata": {
        "colab": {
          "base_uri": "https://localhost:8080/"
        },
        "id": "GpNzt8VxZtGh",
        "outputId": "d97f3a08-ab29-42d8-ced0-d311ea794d73"
      },
      "source": [
        "for i in range(len(preds)):\n",
        "  print(\"X1: %.2f\\tX2: %.2f\\tY: %d\\tPred: %.2f\" % (X_test[i,0], X_test[i,1], Y_test[i], preds[i]))"
      ],
      "execution_count": 58,
      "outputs": [
        {
          "output_type": "stream",
          "name": "stdout",
          "text": [
            "X1: 6.81\tX2: -0.61\tY: 14\tPred: 19.24\n",
            "X1: 6.68\tX2: -0.61\tY: 12\tPred: 18.17\n",
            "X1: 12.21\tX2: -0.61\tY: 13\tPred: 18.19\n",
            "X1: 11.51\tX2: -0.61\tY: 14\tPred: 19.58\n",
            "X1: 10.02\tX2: -0.61\tY: 20\tPred: 20.35\n",
            "X1: 6.91\tX2: -0.61\tY: 16\tPred: 20.55\n",
            "X1: 5.16\tX2: -0.61\tY: 17\tPred: 21.67\n",
            "X1: 9.79\tX2: -0.61\tY: 19\tPred: 20.88\n",
            "X1: 8.49\tX2: -0.61\tY: 20\tPred: 21.99\n",
            "X1: 11.65\tX2: -0.61\tY: 21\tPred: 21.20\n",
            "X1: 4.33\tX2: -0.61\tY: 19\tPred: 22.27\n",
            "X1: 5.28\tX2: -0.61\tY: 19\tPred: 19.08\n",
            "X1: 6.30\tX2: -0.61\tY: 19\tPred: 19.34\n",
            "X1: 23.76\tX2: -0.61\tY: 19\tPred: 18.85\n",
            "X1: 19.84\tX2: -0.61\tY: 20\tPred: 19.67\n",
            "X1: 6.18\tX2: -0.61\tY: 19\tPred: 21.51\n",
            "X1: 5.70\tX2: -0.61\tY: 19\tPred: 22.53\n",
            "X1: 4.96\tX2: -0.61\tY: 23\tPred: 22.83\n",
            "X1: 6.65\tX2: -0.61\tY: 29\tPred: 23.33\n",
            "X1: 11.99\tX2: -0.61\tY: 13\tPred: 18.69\n",
            "X1: 9.38\tX2: -0.61\tY: 13\tPred: 18.39\n",
            "X1: 7.00\tX2: -0.61\tY: 16\tPred: 20.77\n",
            "X1: 22.89\tX2: -0.61\tY: 12\tPred: 17.36\n",
            "X1: 15.39\tX2: -0.61\tY: 14\tPred: 19.21\n",
            "X1: 21.81\tX2: -0.61\tY: 21\tPred: 19.62\n",
            "X1: 8.49\tX2: -0.61\tY: 23\tPred: 22.88\n",
            "X1: 8.31\tX2: -0.61\tY: 23\tPred: 23.60\n",
            "X1: 8.35\tX2: -0.61\tY: 25\tPred: 23.85\n",
            "X1: 3.79\tX2: -0.61\tY: 21\tPred: 24.04\n",
            "X1: 3.10\tX2: -0.61\tY: 20\tPred: 23.65\n",
            "X1: 5.13\tX2: -0.61\tY: 21\tPred: 23.74\n",
            "X1: 8.28\tX2: -0.61\tY: 19\tPred: 21.29\n",
            "X1: 6.94\tX2: -0.61\tY: 20\tPred: 22.75\n",
            "X1: -0.39\tX2: -0.61\tY: 15\tPred: 14.57\n",
            "X1: -0.34\tX2: -0.61\tY: 7\tPred: 13.73\n",
            "X1: -0.30\tX2: -0.61\tY: 8\tPred: 13.40\n",
            "X1: -0.46\tX2: -0.61\tY: 13\tPred: 14.94\n",
            "X1: -0.45\tX2: -0.61\tY: 20\tPred: 16.82\n",
            "X1: -0.35\tX2: -0.61\tY: 21\tPred: 23.54\n",
            "X1: -0.19\tX2: -0.61\tY: 24\tPred: 23.74\n",
            "X1: -0.34\tX2: -0.61\tY: 23\tPred: 22.91\n",
            "X1: -0.17\tX2: -0.61\tY: 19\tPred: 17.55\n",
            "X1: -0.20\tX2: -0.61\tY: 18\tPred: 22.04\n",
            "X1: -0.25\tX2: -0.61\tY: 21\tPred: 23.23\n",
            "X1: -0.35\tX2: -0.61\tY: 17\tPred: 20.96\n",
            "X1: -0.27\tX2: -0.61\tY: 16\tPred: 21.98\n",
            "X1: -0.53\tX2: -0.61\tY: 22\tPred: 23.37\n",
            "X1: -0.55\tX2: -0.61\tY: 20\tPred: 22.41\n",
            "X1: -0.53\tX2: -0.61\tY: 23\tPred: 24.04\n",
            "X1: -0.45\tX2: -0.61\tY: 22\tPred: 23.69\n",
            "X1: -0.55\tX2: -0.61\tY: 11\tPred: 22.46\n"
          ]
        }
      ]
    },
    {
      "cell_type": "code",
      "metadata": {
        "id": "L3iGLifFaPGP"
      },
      "source": [
        ""
      ],
      "execution_count": 58,
      "outputs": []
    }
  ]
}